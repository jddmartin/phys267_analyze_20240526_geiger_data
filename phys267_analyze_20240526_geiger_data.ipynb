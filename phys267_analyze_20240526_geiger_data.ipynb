{
 "cells": [
  {
   "cell_type": "markdown",
   "id": "970e21b8-f9c4-44f3-84af-e731ae2f9668",
   "metadata": {
    "tags": []
   },
   "source": [
    "# Analysis of Geiger counter data collected using Phyphox \"Timers / Acoustic stopwatch / Many\" functionality"
   ]
  },
  {
   "cell_type": "code",
   "execution_count": 1,
   "id": "579465dd-e11b-4237-a985-d7012cfc38ff",
   "metadata": {},
   "outputs": [
    {
     "name": "stdout",
     "output_type": "stream",
     "text": [
      "Note: you may need to restart the kernel to use updated packages.\n"
     ]
    }
   ],
   "source": [
    "# You will need to use launch \"Python 3 user modules\" to be able to load excel spreadsheets\n",
    "%pip install --quiet --user xlrd\n",
    "\n",
    "import numpy as np\n",
    "import pandas as pd\n",
    "import matplotlib.pyplot as plt\n",
    "import math"
   ]
  },
  {
   "cell_type": "code",
   "execution_count": 2,
   "id": "b226959b-b3b9-40bf-b317-c7307692c8f5",
   "metadata": {},
   "outputs": [
    {
     "data": {
      "text/html": [
       "<div>\n",
       "<style scoped>\n",
       "    .dataframe tbody tr th:only-of-type {\n",
       "        vertical-align: middle;\n",
       "    }\n",
       "\n",
       "    .dataframe tbody tr th {\n",
       "        vertical-align: top;\n",
       "    }\n",
       "\n",
       "    .dataframe thead th {\n",
       "        text-align: right;\n",
       "    }\n",
       "</style>\n",
       "<table border=\"1\" class=\"dataframe\">\n",
       "  <thead>\n",
       "    <tr style=\"text-align: right;\">\n",
       "      <th></th>\n",
       "      <th>Event time (s)</th>\n",
       "      <th>Interval (s)</th>\n",
       "    </tr>\n",
       "  </thead>\n",
       "  <tbody>\n",
       "    <tr>\n",
       "      <th>0</th>\n",
       "      <td>3.992792</td>\n",
       "      <td>1.857521</td>\n",
       "    </tr>\n",
       "    <tr>\n",
       "      <th>1</th>\n",
       "      <td>5.850313</td>\n",
       "      <td>0.100021</td>\n",
       "    </tr>\n",
       "    <tr>\n",
       "      <th>2</th>\n",
       "      <td>5.950333</td>\n",
       "      <td>5.009042</td>\n",
       "    </tr>\n",
       "    <tr>\n",
       "      <th>3</th>\n",
       "      <td>10.959375</td>\n",
       "      <td>0.124937</td>\n",
       "    </tr>\n",
       "    <tr>\n",
       "      <th>4</th>\n",
       "      <td>11.084312</td>\n",
       "      <td>0.716125</td>\n",
       "    </tr>\n",
       "    <tr>\n",
       "      <th>...</th>\n",
       "      <td>...</td>\n",
       "      <td>...</td>\n",
       "    </tr>\n",
       "    <tr>\n",
       "      <th>973</th>\n",
       "      <td>2157.011000</td>\n",
       "      <td>2.811083</td>\n",
       "    </tr>\n",
       "    <tr>\n",
       "      <th>974</th>\n",
       "      <td>2159.822083</td>\n",
       "      <td>0.702896</td>\n",
       "    </tr>\n",
       "    <tr>\n",
       "      <th>975</th>\n",
       "      <td>2160.524979</td>\n",
       "      <td>3.278583</td>\n",
       "    </tr>\n",
       "    <tr>\n",
       "      <th>976</th>\n",
       "      <td>2163.803563</td>\n",
       "      <td>0.376437</td>\n",
       "    </tr>\n",
       "    <tr>\n",
       "      <th>977</th>\n",
       "      <td>2164.180000</td>\n",
       "      <td>0.000000</td>\n",
       "    </tr>\n",
       "  </tbody>\n",
       "</table>\n",
       "<p>978 rows × 2 columns</p>\n",
       "</div>"
      ],
      "text/plain": [
       "     Event time (s)  Interval (s)\n",
       "0          3.992792      1.857521\n",
       "1          5.850313      0.100021\n",
       "2          5.950333      5.009042\n",
       "3         10.959375      0.124937\n",
       "4         11.084312      0.716125\n",
       "..              ...           ...\n",
       "973     2157.011000      2.811083\n",
       "974     2159.822083      0.702896\n",
       "975     2160.524979      3.278583\n",
       "976     2163.803563      0.376437\n",
       "977     2164.180000      0.000000\n",
       "\n",
       "[978 rows x 2 columns]"
      ]
     },
     "execution_count": 2,
     "metadata": {},
     "output_type": "execute_result"
    }
   ],
   "source": [
    "ss_df = pd.read_excel(\"Acoustic Stopwatch 2024-05-26 10-06-14_with_salt_sub_nearby.xls\", sheet_name=\"All\")\n",
    "ss_df"
   ]
  },
  {
   "cell_type": "code",
   "execution_count": 3,
   "id": "a30b9352-d012-48b7-b5f1-c0cf4754cd91",
   "metadata": {},
   "outputs": [],
   "source": [
    "ss_times_raw = ss_df.to_numpy()[:,0]  # convert to numpy to make easier to work with\n",
    "ss_times = np.array([v for v in ss_times_raw if v >= 200 and v <= 200+1800])  # get rid of data at start and end\n",
    "bins = np.array(np.arange(200, 2000, 1))  # create 1 second long bins for histograming\n",
    "counts_in_bins, bin_edges = np.histogram(ss_times, bins=bins)"
   ]
  },
  {
   "cell_type": "code",
   "execution_count": 4,
   "id": "d06d27c3-e46b-4fdb-af1b-5860af8d7969",
   "metadata": {},
   "outputs": [
    {
     "data": {
      "text/plain": [
       "<BarContainer object of 1799 artists>"
      ]
     },
     "execution_count": 4,
     "metadata": {},
     "output_type": "execute_result"
    },
    {
     "data": {
      "image/png": "[encoded data removed]",
      "text/plain": [
       "<Figure size 640x480 with 1 Axes>"
      ]
     },
     "metadata": {},
     "output_type": "display_data"
    }
   ],
   "source": [
    "plt.bar(bin_edges[:-1], counts_in_bins)"
   ]
  },
  {
   "cell_type": "markdown",
   "id": "7c07ef8b-a616-4bfc-a6dc-1d125aca656e",
   "metadata": {},
   "source": [
    "In retrospect, this data looks a bit concerning --- it is as if counts are coming in bursts.  I need to investigate further."
   ]
  },
  {
   "cell_type": "code",
   "execution_count": 5,
   "id": "d9315faf-9806-40ea-a0be-98135249c363",
   "metadata": {},
   "outputs": [
    {
     "data": {
      "text/plain": [
       "(array([0.62145636, 0.31573096, 0.05558644, 0.00611451, 0.00111173,\n",
       "        0.        , 0.        , 0.        , 0.        , 0.        ,\n",
       "        0.        ]),\n",
       " array([ 0,  1,  2,  3,  4,  5,  6,  7,  8,  9, 10, 11]),\n",
       " <BarContainer object of 11 artists>)"
      ]
     },
     "execution_count": 5,
     "metadata": {},
     "output_type": "execute_result"
    },
    {
     "data": {
      "image/png": "[encoded data removed]",
      "text/plain": [
       "<Figure size 640x480 with 1 Axes>"
      ]
     },
     "metadata": {},
     "output_type": "display_data"
    }
   ],
   "source": [
    "plt.hist(counts_in_bins, bins=range(0, 12), fill=None, edgecolor=\"blue\", density=True)"
   ]
  },
  {
   "cell_type": "markdown",
   "id": "0841d23e-e6d7-4e6f-8f89-8ba123d17e43",
   "metadata": {},
   "source": [
    "Now let's do the same analysis with the background data"
   ]
  },
  {
   "cell_type": "code",
   "execution_count": 6,
   "id": "883f6507-7c33-450b-95e0-e33fb9bbbdd9",
   "metadata": {},
   "outputs": [],
   "source": [
    "back_df = pd.read_excel(\"Acoustic Stopwatch 2024-05-26 11-36-18_without_salt_sub_nearby.xls\", sheet_name=\"All\")    "
   ]
  },
  {
   "cell_type": "code",
   "execution_count": 7,
   "id": "185370b1-ee82-427d-a680-2fdf94c5b1ab",
   "metadata": {},
   "outputs": [],
   "source": [
    "back_times_raw = back_df.to_numpy()[:,0]"
   ]
  },
  {
   "cell_type": "code",
   "execution_count": 8,
   "id": "b00d8c94-e4f3-460d-b45b-3a454a9972f9",
   "metadata": {},
   "outputs": [],
   "source": [
    "back_times = np.array([v for v in back_times_raw if v >= 200 and v <= 200+1800])"
   ]
  },
  {
   "cell_type": "code",
   "execution_count": 9,
   "id": "846e8a96-b999-4d45-a3ae-5418bfd957ce",
   "metadata": {},
   "outputs": [],
   "source": [
    "back_counts_in_bins, back_bin_edges = np.histogram(back_times, bins=bins)"
   ]
  },
  {
   "cell_type": "code",
   "execution_count": 18,
   "id": "219b997f-74c8-4244-b9e8-5fa6f71ec362",
   "metadata": {},
   "outputs": [
    {
     "ename": "AttributeError",
     "evalue": "module 'matplotlib.pyplot' has no attribute 'save_fig'",
     "output_type": "error",
     "traceback": [
      "\u001b[0;31m---------------------------------------------------------------------------\u001b[0m",
      "\u001b[0;31mAttributeError\u001b[0m                            Traceback (most recent call last)",
      "Input \u001b[0;32mIn [18]\u001b[0m, in \u001b[0;36m<cell line: 17>\u001b[0;34m()\u001b[0m\n\u001b[1;32m     15\u001b[0m ax\u001b[38;5;241m.\u001b[39mset_xlabel(\u001b[38;5;124m\"\u001b[39m\u001b[38;5;124mcounts in 1 s\u001b[39m\u001b[38;5;124m\"\u001b[39m)\n\u001b[1;32m     16\u001b[0m ax\u001b[38;5;241m.\u001b[39mset_ylabel(\u001b[38;5;124m\"\u001b[39m\u001b[38;5;124mfrequency of occurrence\u001b[39m\u001b[38;5;124m\"\u001b[39m)\n\u001b[0;32m---> 17\u001b[0m \u001b[43mplt\u001b[49m\u001b[38;5;241;43m.\u001b[39;49m\u001b[43msave_fig\u001b[49m(\u001b[38;5;124m\"\u001b[39m\u001b[38;5;124mgeiger_20240525_generated.pdf\u001b[39m\u001b[38;5;124m\"\u001b[39m)\n",
      "\u001b[0;31mAttributeError\u001b[0m: module 'matplotlib.pyplot' has no attribute 'save_fig'"
     ]
    },
    {
     "data": {
      "image/png": "[encoded data removed]",
      "text/plain": [
       "<Figure size 640x480 with 1 Axes>"
      ]
     },
     "metadata": {},
     "output_type": "display_data"
    }
   ],
   "source": [
    "def p(mean):  # create a function to evaluate Poisson distribution\n",
    "    def f(r):\n",
    "        return 1/math.factorial(r) * mean**r * np.exp(-mean)\n",
    "    return f\n",
    "ns = list(range(0,10))\n",
    "\n",
    "plt.hist(counts_in_bins, bins=np.arange(-0.5, 11.5), fill=None, edgecolor=\"blue\", density=True, label=\"KCl observed\")\n",
    "plt.scatter(ns, [p(np.mean(counts_in_bins))(n) for n in ns], marker=\"+\", s=100, label=\"KCl Poisson, same mean as observed\")\n",
    "\n",
    "plt.hist(back_counts_in_bins, bins=np.arange(-0.5, 11.5), fill=None, edgecolor=\"red\", density=True, label=\"background observed\")\n",
    "plt.scatter(ns, [p(np.mean(back_counts_in_bins))(n) for n in ns], marker=\"+\", s=100, label=\"background Poisson, same mean as observed\")\n",
    "\n",
    "ax = plt.gca()\n",
    "ax.legend()\n",
    "ax.set_xlabel(\"counts in 1 s\")\n",
    "ax.set_ylabel(\"frequency of occurrence\")\n",
    "plt.savefig(\"geiger_20240525_generated.pdf\")"
   ]
  },
  {
   "cell_type": "markdown",
   "id": "d1e08c55-cc10-4fe1-84ec-f82dec9705c5",
   "metadata": {},
   "source": [
    "Agreement between the experimental observations and theoretical distributions appears good."
   ]
  },
  {
   "cell_type": "code",
   "execution_count": 11,
   "id": "1846e805-6114-4d59-bf22-1ee90f4388c2",
   "metadata": {},
   "outputs": [
    {
     "name": "stdout",
     "output_type": "stream",
     "text": [
      "0.44969427459699834 0.4086700010289207\n",
      "0.17398554752640355 0.16039050785115933\n"
     ]
    }
   ],
   "source": [
    "# For a Poisson distribution, the mean and variance are equal.  \n",
    "# Let's check how close our sample satisfies this equality:\n",
    "print(np.mean(counts_in_bins), np.std(counts_in_bins)**2)\n",
    "print(np.mean(back_counts_in_bins), np.std(back_counts_in_bins)**2)"
   ]
  },
  {
   "cell_type": "markdown",
   "id": "37ca323e-31ec-4c12-8376-2f17496416d3",
   "metadata": {},
   "source": [
    "Next lecture we will derive the Poisson distribution."
   ]
  }
 ],
 "metadata": {
  "kernelspec": {
   "display_name": "Python 3 user modules",
   "language": "python",
   "name": "python3-user-modules"
  },
  "language_info": {
   "codemirror_mode": {
    "name": "ipython",
    "version": 3
   },
   "file_extension": ".py",
   "mimetype": "text/x-python",
   "name": "python",
   "nbconvert_exporter": "python",
   "pygments_lexer": "ipython3",
   "version": "3.10.4"
  }
 },
 "nbformat": 4,
 "nbformat_minor": 5
}
